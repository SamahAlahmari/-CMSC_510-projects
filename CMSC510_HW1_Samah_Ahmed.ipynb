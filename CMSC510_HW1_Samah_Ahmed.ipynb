{
  "nbformat": 4,
  "nbformat_minor": 0,
  "metadata": {
    "colab": {
      "provenance": []
    },
    "kernelspec": {
      "name": "python3",
      "display_name": "Python 3"
    },
    "language_info": {
      "name": "python"
    }
  },
  "cells": [
    {
      "cell_type": "code",
      "execution_count": null,
      "metadata": {
        "id": "_n1oG6yzrmuJ"
      },
      "outputs": [],
      "source": [
        "import numpy as np\n",
        "import matplotlib.pyplot as plt\n",
        "import sys"
      ]
    },
    {
      "cell_type": "code",
      "source": [
        "train_x = np.array([-1.67245526, -2.36540279, -2.14724263, 1.40539096, 1.24297767,\n",
        "              -1.71043904, 2.31579097, 2.40479939, -2.22112823])\n",
        "\n",
        "train_y = np.array([-18.56122168, -24.99658931, -24.41907817, -2.688209,\n",
        "              -1.54725306, -19.18190097, 1.74117419,\n",
        "              3.97703338, -24.80977847])"
      ],
      "metadata": {
        "id": "XT6gzMGZiwCd"
      },
      "execution_count": null,
      "outputs": []
    },
    {
      "cell_type": "markdown",
      "source": [
        "Regression function for n=1"
      ],
      "metadata": {
        "id": "WzHhk7So-Mko"
      }
    },
    {
      "cell_type": "code",
      "source": [
        "def regression1(w0, w1, x):\n",
        "  return w0+w1*x"
      ],
      "metadata": {
        "id": "8r85rfUbi2iy"
      },
      "execution_count": null,
      "outputs": []
    },
    {
      "cell_type": "markdown",
      "source": [
        "Regression function for n=2"
      ],
      "metadata": {
        "id": "l3khv4xP-oIK"
      }
    },
    {
      "cell_type": "code",
      "source": [
        "def regression2(w0, w1, w2, x):\n",
        "  return w0+w1*x+w2*x**2"
      ],
      "metadata": {
        "id": "eXyxi3zs-rUm"
      },
      "execution_count": null,
      "outputs": []
    },
    {
      "cell_type": "markdown",
      "source": [
        "Regression function for n=3"
      ],
      "metadata": {
        "id": "_zChG2idDBix"
      }
    },
    {
      "cell_type": "code",
      "source": [
        "def regression3(w0, w1, w2, w3, x):\n",
        "  return w0+w1*x+w2*x**2+w3*x**3"
      ],
      "metadata": {
        "id": "GVhpoqD4C973"
      },
      "execution_count": null,
      "outputs": []
    },
    {
      "cell_type": "markdown",
      "source": [
        "Regression function for n=4"
      ],
      "metadata": {
        "id": "H9YbiKUQGb1g"
      }
    },
    {
      "cell_type": "code",
      "source": [
        "def regression4(w0, w1, w2, w3, w4, x):\n",
        "  return w0+w1*x+w2*x**2+w3*x**3+w4*x**4"
      ],
      "metadata": {
        "id": "Y7rCNQaVGc-V"
      },
      "execution_count": null,
      "outputs": []
    },
    {
      "cell_type": "markdown",
      "source": [
        "Regression function for n=5"
      ],
      "metadata": {
        "id": "Ar7zwNBGGnfm"
      }
    },
    {
      "cell_type": "code",
      "source": [
        "def regression5(w0, w1, w2, w3, w4, w5, x):\n",
        "  return w0+w1*x+w2*x**2+w3*x**3+w4*x**4+w5*x**5"
      ],
      "metadata": {
        "id": "EiXz86HHGoTu"
      },
      "execution_count": null,
      "outputs": []
    },
    {
      "cell_type": "markdown",
      "source": [
        "Calculte the difference between train_y and y_hat using MSE =1/m sum(train_y - y_hat)**2 "
      ],
      "metadata": {
        "id": "K4qR5NDwmFNN"
      }
    },
    {
      "cell_type": "code",
      "source": [
        "def cost_fun(y_pred,y):\n",
        "  error = sum((y_pred - y)**2)\n",
        "  return error/len(y)"
      ],
      "metadata": {
        "id": "b2f5VJfvl8DW"
      },
      "execution_count": null,
      "outputs": []
    },
    {
      "cell_type": "markdown",
      "source": [
        "random values for wj between -0.001 and 0.001"
      ],
      "metadata": {
        "id": "dSW6nCP8k6aZ"
      }
    },
    {
      "cell_type": "code",
      "source": [
        "w= [round(np.random.uniform(-0.001,0.001),3),\n",
        "    round(np.random.uniform(-0.001,0.001),3),\n",
        "    round(np.random.uniform(-0.001,0.001),3),\n",
        "    round(np.random.uniform(-0.001,0.001),3),\n",
        "    round(np.random.uniform(-0.001,0.001),3),\n",
        "    round(np.random.uniform(-0.001,0.001),3)]"
      ],
      "metadata": {
        "id": "lOT0N6h5DRIr"
      },
      "execution_count": null,
      "outputs": []
    },
    {
      "cell_type": "markdown",
      "source": [
        "training n=1"
      ],
      "metadata": {
        "id": "fiuhGIoe_Rfh"
      }
    },
    {
      "cell_type": "code",
      "source": [
        "alpha = 0.001\n",
        "\n",
        "for  i in range(100):\n",
        "  y_hat = regression1(w[0],w[1],train_x)\n",
        "  L = cost_fun(y_hat, train_y)\n",
        " \n",
        "  #Calculate the derivatives\n",
        "  dw0 = 2/len(train_y)*sum(y_hat - train_y)\n",
        "  dw1 = 2/len(train_y)*sum((y_hat - train_y)*train_x)\n",
        "  \n",
        "  #new wieghts\n",
        "  w[0] = w[0] - alpha*dw0\n",
        "  w[1] = w[1] - alpha*dw1\n",
        "  \n",
        "  #print(\"Cost at\", i,\"iteration = \", L, \"W0 = \", w[0],\"W1 = \", w[1])\n",
        "\n",
        "\n"
      ],
      "metadata": {
        "id": "pfmoIKN20XDn"
      },
      "execution_count": null,
      "outputs": []
    },
    {
      "cell_type": "markdown",
      "source": [
        "n=1 plotting"
      ],
      "metadata": {
        "id": "ssCtDIjGAs8Z"
      }
    },
    {
      "cell_type": "code",
      "source": [
        "#do a simple plot of data (red points) and some (rather badly fitting) quadratic line (−.5x^2+.4x-.3) in blue\n",
        "xs = [];\n",
        "ys = [];\n",
        "for x in np.arange(-2.5, 2.5, 0.01):\n",
        "    xs.append(x);\n",
        "    y=5.9*x + -10.47;\n",
        "    ys.append(y);\n",
        "\n",
        "test_x = np.array(xs);\n",
        "test_y = np.array(ys);\n",
        "\n",
        "title = '(n=1)-degree polynomial'\n",
        "plt.title(title, loc='center')\n",
        "plt.scatter(test_x,test_y, color='blue')\n",
        "plt.scatter(train_x,train_y, color='red')\n",
        "\n",
        "\n",
        "plt.show()\n",
        "\n"
      ],
      "metadata": {
        "colab": {
          "base_uri": "https://localhost:8080/",
          "height": 281
        },
        "id": "hSE8xDvzi03A",
        "outputId": "e1920b4e-26f9-4ce7-9e58-0f9e2210f1bf"
      },
      "execution_count": null,
      "outputs": [
        {
          "output_type": "display_data",
          "data": {
            "text/plain": [
              "<Figure size 432x288 with 1 Axes>"
            ],
            "image/png": "[encoded data removed]"
          },
          "metadata": {
            "needs_background": "light"
          }
        }
      ]
    },
    {
      "cell_type": "markdown",
      "source": [
        "training n=2"
      ],
      "metadata": {
        "id": "4TyC6Gf2_dsR"
      }
    },
    {
      "cell_type": "code",
      "source": [
        "alpha = 0.01\n",
        "\n",
        "for  i in range(1000):\n",
        "  y_hat = regression2(w[0], w[1], w[2], train_x)\n",
        "  L = cost_fun(y_hat, train_y)\n",
        " \n",
        "  #Calculate the derivatives\n",
        "  dw0 = 2/len(train_y)*sum(y_hat - train_y)\n",
        "  dw1 = 2/len(train_y)*sum((y_hat - train_y)*train_x)\n",
        "  dw2 = 2/len(train_y)*sum((y_hat - train_y)*train_x**2)\n",
        "  #new wieghts\n",
        "  w[0] = w[0] - alpha*dw0\n",
        "  w[1] = w[1] - alpha*dw1\n",
        "  w[2] = w[2] - alpha*dw2\n",
        "  #print(\"Cost at\", i,\"iteration = \", L, \"W0 = \", w[0],\"W1 = \", w[1], \"w2 =\", w[2])\n",
        "\n"
      ],
      "metadata": {
        "id": "0u-jBErw_fYj"
      },
      "execution_count": null,
      "outputs": []
    },
    {
      "cell_type": "markdown",
      "source": [
        "n=2 plotting"
      ],
      "metadata": {
        "id": "DAW-GE21AxGA"
      }
    },
    {
      "cell_type": "code",
      "source": [
        "#do a simple plot of data (red points) and some (rather badly fitting) quadratic line (−.5x^2+.4x-.3) in blue\n",
        "xs = [];\n",
        "ys = [];\n",
        "for x in np.arange(-2.5, 2.5, 0.01):\n",
        "    xs.append(x);\n",
        "    y=-8+5.9*x-0.5*x**2;\n",
        "    ys.append(y);\n",
        "\n",
        "test_x = np.array(xs);\n",
        "test_y = np.array(ys);\n",
        "\n",
        "title = '(n=2)-degree polynomial'\n",
        "plt.title(title, loc='center')\n",
        "plt.scatter(test_x,test_y, color='blue')\n",
        "plt.scatter(train_x,train_y, color='red')\n",
        "\n",
        "\n",
        "plt.show()\n",
        "\n"
      ],
      "metadata": {
        "colab": {
          "base_uri": "https://localhost:8080/",
          "height": 281
        },
        "outputId": "a60235e5-a19a-4bf6-eb83-516ff8b5304a",
        "id": "QwYSqi0iCwJ3"
      },
      "execution_count": null,
      "outputs": [
        {
          "output_type": "display_data",
          "data": {
            "text/plain": [
              "<Figure size 432x288 with 1 Axes>"
            ],
            "image/png": "[encoded data removed]"
          },
          "metadata": {
            "needs_background": "light"
          }
        }
      ]
    },
    {
      "cell_type": "markdown",
      "source": [
        "training n=3"
      ],
      "metadata": {
        "id": "O_RwWPNBDgBy"
      }
    },
    {
      "cell_type": "code",
      "source": [
        "alpha = 0.01\n",
        "\n",
        "for  i in range(1000):\n",
        "  y_hat = regression3(w[0],w[1],w[2],w[3],train_x)\n",
        "  L = cost_fun(y_hat, train_y)\n",
        " \n",
        "  #Calculate the derivatives\n",
        "  dw0 = 2/len(train_y)*sum(y_hat - train_y)\n",
        "  dw1 = 2/len(train_y)*sum((y_hat - train_y)*train_x)\n",
        "  dw2 = 2/len(train_y)*sum((y_hat - train_y)*train_x**2)\n",
        "  dw3 = 2/len(train_y)*sum((y_hat - train_y)*train_x**3)\n",
        "\n",
        "  #new wieghts\n",
        "  w[0] = w[0] - alpha*dw0\n",
        "  w[1] = w[1] - alpha*dw1\n",
        "  w[2] = w[2] - alpha*dw2\n",
        "  w[3] = w[3] - alpha*dw3\n",
        "\n",
        "  #print(\"Cost at\", i,\"iteration = \", L, \"W0 = \", w[0],\"W1 = \", w[1], \"w2 =\", w[2], \"w3 =\", w[3])\n",
        "\n",
        "\n"
      ],
      "metadata": {
        "id": "6CBW9JBhD3eS"
      },
      "execution_count": null,
      "outputs": []
    },
    {
      "cell_type": "markdown",
      "source": [
        "n=3 plotting"
      ],
      "metadata": {
        "id": "Cd7Z0eaDFRni"
      }
    },
    {
      "cell_type": "code",
      "source": [
        "#do a simple plot of data (red points) and some (rather badly fitting) quadratic line (−.5x^2+.4x-.3) in blue\n",
        "xs = [];\n",
        "ys = [];\n",
        "for x in np.arange(-2.5, 2.5, 0.01):\n",
        "    xs.append(x);\n",
        "    y=-8+4.8*x-0.6*x**2+0.2*x**3;\n",
        "    ys.append(y);\n",
        "\n",
        "test_x = np.array(xs);\n",
        "test_y = np.array(ys);\n",
        "\n",
        "title = '(n=3)-degree polynomial'\n",
        "plt.title(title, loc='center')\n",
        "plt.scatter(test_x,test_y, color='blue')\n",
        "plt.scatter(train_x,train_y, color='red')\n",
        "\n",
        "\n",
        "plt.show()\n",
        "\n"
      ],
      "metadata": {
        "colab": {
          "base_uri": "https://localhost:8080/",
          "height": 281
        },
        "outputId": "8955a443-ab8e-4677-b40b-a31ca69bd2fc",
        "id": "ggpCU8VOFUYK"
      },
      "execution_count": null,
      "outputs": [
        {
          "output_type": "display_data",
          "data": {
            "text/plain": [
              "<Figure size 432x288 with 1 Axes>"
            ],
            "image/png": "[encoded data removed]"
          },
          "metadata": {
            "needs_background": "light"
          }
        }
      ]
    },
    {
      "cell_type": "markdown",
      "source": [
        "n= 4 training"
      ],
      "metadata": {
        "id": "WPpZguMHHClt"
      }
    },
    {
      "cell_type": "code",
      "source": [
        "alpha = 0.001\n",
        "\n",
        "for  i in range(200000):\n",
        "  y_hat = regression4(w[0] ,w[1] ,w[2] ,w[3] ,w[4] ,train_x)\n",
        "  L = cost_fun(y_hat, train_y)\n",
        " \n",
        "  #Calculate the derivatives\n",
        "  dw0 = 2/len(train_y)*sum(y_hat - train_y)\n",
        "  dw1 = 2/len(train_y)*sum((y_hat - train_y)*train_x)\n",
        "  dw2 = 2/len(train_y)*sum((y_hat - train_y)*train_x**2)\n",
        "  dw3 = 2/len(train_y)*sum((y_hat - train_y)*train_x**3)\n",
        "  dw4 = 2/len(train_y)*sum((y_hat - train_y)*train_x**4)\n",
        "\n",
        "  #new wieghts\n",
        "  w[0] = w[0] - alpha*dw0\n",
        "  w[1] = w[1] - alpha*dw1\n",
        "  w[2] = w[2] - alpha*dw2\n",
        "  w[3] = w[3] - alpha*dw3\n",
        "  w[4] = w[4] - alpha*dw4\n",
        "  #print(\"iteration = \",i , \"Cost\", L,\"W0 = \", w[0],\"W1 = \", w[1], \"w2 =\", w[2], \"w3 =\", w[3], \"w4 =\", w[4])\n",
        "\n",
        "\n"
      ],
      "metadata": {
        "id": "PxUuDoZ7HIqb"
      },
      "execution_count": null,
      "outputs": []
    },
    {
      "cell_type": "markdown",
      "source": [
        "n=4 plotting"
      ],
      "metadata": {
        "id": "aPl2lMd3HUrP"
      }
    },
    {
      "cell_type": "code",
      "source": [
        "#do a simple plot of data (red points) and some (rather badly fitting) quadratic line (−.5x^2+.4x-.3) in blue\n",
        "xs = [];\n",
        "ys = [];\n",
        "for x in np.arange(-2.5, 2.5, 0.01):\n",
        "    xs.append(x);\n",
        "    y=-0.5+3.6*x-5.3*x**2+0.4*x**3+0.6*x**4;\n",
        "    ys.append(y);\n",
        "\n",
        "test_x = np.array(xs);\n",
        "test_y = np.array(ys);\n",
        "\n",
        "title = '(n=4)-degree polynomial'\n",
        "plt.title(title, loc='center')\n",
        "plt.scatter(test_x,test_y, color='blue')\n",
        "plt.scatter(train_x,train_y, color='red')\n",
        "\n",
        "\n",
        "plt.show()\n",
        "\n"
      ],
      "metadata": {
        "colab": {
          "base_uri": "https://localhost:8080/",
          "height": 281
        },
        "outputId": "1fe47f78-57e1-46d5-fb5c-7155a484c5a9",
        "id": "0zXStFP8Hhg0"
      },
      "execution_count": null,
      "outputs": [
        {
          "output_type": "display_data",
          "data": {
            "text/plain": [
              "<Figure size 432x288 with 1 Axes>"
            ],
            "image/png": "[encoded data removed]"
          },
          "metadata": {
            "needs_background": "light"
          }
        }
      ]
    },
    {
      "cell_type": "markdown",
      "source": [
        "training n=5"
      ],
      "metadata": {
        "id": "XR9DonjkIKum"
      }
    },
    {
      "cell_type": "code",
      "source": [
        "alpha = 0.001\n",
        "\n",
        "for  i in range(100):\n",
        "  y_hat = regression5(w[0] ,w[1] ,w[2] ,w[3] ,w[4], w[5] ,train_x)\n",
        "  L = cost_fun(y_hat, train_y)\n",
        " \n",
        "  #Calculate the derivatives\n",
        "  dw0 = 2/len(train_y)*sum(y_hat - train_y)\n",
        "  dw1 = 2/len(train_y)*sum((y_hat - train_y)*train_x)\n",
        "  dw2 = 2/len(train_y)*sum((y_hat - train_y)*train_x**2)\n",
        "  dw3 = 2/len(train_y)*sum((y_hat - train_y)*train_x**3)\n",
        "  dw4 = 2/len(train_y)*sum((y_hat - train_y)*train_x**4)\n",
        "  dw5 = 2/len(train_y)*sum((y_hat - train_y)*train_x**5)\n",
        "\n",
        "  #new wieghts\n",
        "  w[0] = w[0] - alpha*dw0\n",
        "  w[1] = w[1] - alpha*dw1\n",
        "  w[2] = w[2] - alpha*dw2\n",
        "  w[3] = w[3] - alpha*dw3\n",
        "  w[4] = w[4] - alpha*dw4\n",
        "  w[5] = w[5] - alpha*dw5\n",
        "  #print(\"iteration = \",i , \"Cost\", L,\"W0 = \", w[0],\"W1 = \", w[1], \"w2 =\", w[2], \"w3 =\", w[3], \"w4 =\", w[4], \"w5\", w[5])\n"
      ],
      "metadata": {
        "id": "Pa3tPK9TcRPZ"
      },
      "execution_count": null,
      "outputs": []
    },
    {
      "cell_type": "markdown",
      "source": [
        "n=5 plotting"
      ],
      "metadata": {
        "id": "jIdE4dxwNFgD"
      }
    },
    {
      "cell_type": "code",
      "source": [
        "#do a simple plot of data (red points) and some (rather badly fitting) quadratic line (−.5x^2+.4x-.3) in blue\n",
        "xs = [];\n",
        "ys = [];\n",
        "for x in np.arange(-2.5, 2.5, 0.01):\n",
        "    xs.append(x);\n",
        "    y=-2+x-3.86*x**2+2*x**3+0.4*x**4-0.2*x**5;\n",
        "    ys.append(y);\n",
        "\n",
        "test_x = np.array(xs);\n",
        "test_y = np.array(ys);\n",
        "\n",
        "title = '(n=5)-degree polynomial'\n",
        "plt.title(title, loc='center')\n",
        "plt.scatter(test_x,test_y, color='blue')\n",
        "plt.scatter(train_x,train_y, color='red')\n",
        "\n",
        "\n",
        "plt.show()\n",
        "\n"
      ],
      "metadata": {
        "colab": {
          "base_uri": "https://localhost:8080/",
          "height": 281
        },
        "outputId": "a1dbdf12-4206-483b-c448-4c2504f957fd",
        "id": "sjV3AXeQNCb4"
      },
      "execution_count": null,
      "outputs": [
        {
          "output_type": "display_data",
          "data": {
            "text/plain": [
              "<Figure size 432x288 with 1 Axes>"
            ],
            "image/png": "[encoded data removed]"
          },
          "metadata": {
            "needs_background": "light"
          }
        }
      ]
    }
  ]
}