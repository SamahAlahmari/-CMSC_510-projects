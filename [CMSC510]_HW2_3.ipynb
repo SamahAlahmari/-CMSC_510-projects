{
  "nbformat": 4,
  "nbformat_minor": 0,
  "metadata": {
    "colab": {
      "provenance": []
    },
    "kernelspec": {
      "name": "python3",
      "display_name": "Python 3"
    },
    "language_info": {
      "name": "python"
    }
  },
  "cells": [
    {
      "cell_type": "code",
      "execution_count": null,
      "metadata": {
        "id": "67gtv5M2ovzT"
      },
      "outputs": [],
      "source": [
        "import pandas as pd\n",
        "import torch as torch\n",
        "import numpy as np\n",
        "from scipy.stats import zscore\n",
        "from torch.utils.data import DataLoader,Dataset, TensorDataset, random_split\n",
        "import math\n",
        "import matplotlib.pyplot as plt"
      ]
    },
    {
      "cell_type": "code",
      "source": [
        "np.random.seed(42)\n",
        "device = torch.device('cuda' if torch.cuda.is_available() else 'cpu')"
      ],
      "metadata": {
        "id": "9z05N6GOulET"
      },
      "execution_count": null,
      "outputs": []
    },
    {
      "cell_type": "code",
      "source": [
        "# Load the iris dataset using pandas\n",
        "data = pd.read_csv('/iris.csv')\n",
        "x_data = data[list(data.columns)[0:-1]].apply(zscore).to_numpy()\n",
        "y_data = pd.get_dummies(data['variety']).to_numpy()"
      ],
      "metadata": {
        "id": "XMk_Xz5KpNkP"
      },
      "execution_count": null,
      "outputs": []
    },
    {
      "cell_type": "code",
      "source": [
        "# no. of classes, features, and samples\n",
        "n_classes = 3\n",
        "n_features = x_data.shape[1]"
      ],
      "metadata": {
        "id": "1QrGZ8Lgtlji"
      },
      "execution_count": null,
      "outputs": []
    },
    {
      "cell_type": "code",
      "source": [
        "# convert data and labels into tensors\n",
        "t_x_data=torch.tensor(x_data,requires_grad=False,device=device)\n",
        "t_y_data=torch.tensor(y_data,requires_grad=False,device=device)"
      ],
      "metadata": {
        "id": "A5v8QaHPuO8u"
      },
      "execution_count": null,
      "outputs": []
    },
    {
      "cell_type": "code",
      "source": [
        "# combain data and labels into a tensor dataset\n",
        "dataset = TensorDataset(t_x_data, t_y_data)"
      ],
      "metadata": {
        "id": "nlwSNjNhuu4L"
      },
      "execution_count": null,
      "outputs": []
    },
    {
      "cell_type": "code",
      "source": [
        "# create train and test split\n",
        "train_size = int(len(dataset)*0.8)\n",
        "test_size = len(dataset)-train_size\n",
        "train_data,test_data = random_split(dataset,[train_size,test_size])"
      ],
      "metadata": {
        "id": "eWP-V-40qI70"
      },
      "execution_count": null,
      "outputs": []
    },
    {
      "cell_type": "code",
      "source": [
        "#creats data loader for training data\n",
        "batch_size=100\n",
        "dL_train = DataLoader(train_data, batch_size= batch_size,shuffle=True)\n",
        "dL_test = DataLoader(test_data,batch_size=len(test_data))"
      ],
      "metadata": {
        "id": "ofrjN21ltQqY"
      },
      "execution_count": null,
      "outputs": []
    },
    {
      "cell_type": "code",
      "source": [
        "#define starting value of weights W for gradient descent\n",
        "# W = n_features* n_classes\n",
        "init_std_dev = 0.01;\n",
        "initialW=init_std_dev*np.random.randn(n_features,n_classes)"
      ],
      "metadata": {
        "id": "Mj_LjfV_u-M3"
      },
      "execution_count": null,
      "outputs": []
    },
    {
      "cell_type": "code",
      "source": [
        "def softmax(x):\n",
        "    e_x = torch.exp(x - torch.max(x))\n",
        "    return e_x / e_x.sum(axis=1, keepdims=True)"
      ],
      "metadata": {
        "id": "Zq7W3twQYSgi"
      },
      "execution_count": null,
      "outputs": []
    },
    {
      "cell_type": "code",
      "source": [
        "# create a PyTorch tensor variable for W and b. \n",
        "# we will be optimizing over W, b, finding their best value using gradient descent,so we need gradient enabled\n",
        "W = torch.tensor(initialW,requires_grad=True,device=device);\n",
        "# the shape of b = 1*n_classes\n",
        "b = torch.zeros((1,n_classes),requires_grad=True,device=device);"
      ],
      "metadata": {
        "id": "T57JXvJNvk_p"
      },
      "execution_count": null,
      "outputs": []
    },
    {
      "cell_type": "code",
      "source": [
        "# this optimizer will do gradient descent for us\n",
        "learning_rate = 0.01;\n",
        "optimizer = torch.optim.SGD([W,b],lr=learning_rate)\n",
        "#optimizer = torch.optim.Adam([W,b],lr=learning_rate)"
      ],
      "metadata": {
        "id": "SFzF7Njwv1ae"
      },
      "execution_count": null,
      "outputs": []
    },
    {
      "cell_type": "code",
      "source": [
        "n_epochs = 10000\n",
        "loss = []\n",
        "t_accuracy = []\n",
        "for i in range(n_epochs):\n",
        "  accuracy = 0\n",
        "  batches= 0\n",
        "  running_loss = 0.0\n",
        "  for j ,data in enumerate(dL_train):\n",
        "    batches += 1\n",
        "    inputs,labels = data\n",
        "    # clear previous gradient calculations\n",
        "    optimizer.zero_grad();\n",
        "    # calculate model predictions\n",
        "    linear_predictions = torch.matmul(inputs,W)+b\n",
        "    #map prediction outputs into specific valuse using that sum to one (softmax function)\n",
        "    activations = softmax(linear_predictions)\n",
        "    #calculate loss(using cross entropy)\n",
        "    prediction_error = -torch.sum(torch.multiply(labels,torch.log(activations)),axis =1)\n",
        "    risk =torch.mean(prediction_error)\n",
        "    #calculate gradients of risk w.r.t. W,b and propagate them back\n",
        "    risk.backward();\n",
        "    # use the gradient to change W, b\n",
        "    optimizer.step()\n",
        "    running_loss +=risk.item()\n",
        "    # calculate accuracy (on the training set!)\n",
        "    true_class = np.argmax(labels.detach().cpu().numpy(),axis=1)\n",
        "    pred_class = np.argmax(activations.detach().cpu().numpy(),axis=1)\n",
        "    accuracy += np.count_nonzero(true_class == pred_class)/pred_class.shape[0];\n",
        "    error = 1.0 - accuracy;\n",
        "  loss.append(running_loss/batches)\n",
        "  t_accuracy.append(accuracy/batches)\n",
        "  print('Epoch: [{:}/{:}]\\t loss: {:.3f}\\t accuracy: {:.3f}'.format(i+1,n_epochs,running_loss/batches,accuracy/batches))\n"
      ],
      "metadata": {
        "id": "QcgZIBTtv3LK"
      },
      "execution_count": null,
      "outputs": []
    },
    {
      "cell_type": "code",
      "source": [
        "plt.subplot(1, 2, 1)\n",
        "plt.plot(loss,'-')\n",
        "plt.title('Training Loss')\n",
        "plt.xlabel('epoch')\n",
        "plt.ylabel('loss')\n",
        "plt.subplot(1, 2, 2)\n",
        "plt.plot(t_accuracy)\n",
        "plt.title('Training Accuracy')\n",
        "plt.xlabel('epoch')\n",
        "plt.ylabel('accuracy')\n",
        "plt.show()\n",
        "\n"
      ],
      "metadata": {
        "id": "zEUUebl4FhV5",
        "colab": {
          "base_uri": "https://localhost:8080/",
          "height": 295
        },
        "outputId": "60526dc5-a372-4135-d5e9-6af1488aa314"
      },
      "execution_count": null,
      "outputs": [
        {
          "output_type": "display_data",
          "data": {
            "text/plain": [
              "<Figure size 432x288 with 2 Axes>"
            ],
            "image/png": "[encoded data removed]"
          },
          "metadata": {
            "needs_background": "light"
          }
        }
      ]
    },
    {
      "cell_type": "code",
      "source": [
        "#testing model\n",
        "for k, data in enumerate(dL_test):\n",
        "    inputs,labels = data\n",
        "    # calculate model predictions\n",
        "    linear_predictions = torch.matmul(inputs,W)+b\n",
        "    #map prediction outputs into specific valuse using that sum to one (softmax function)\n",
        "    activations = softmax(linear_predictions)\n",
        "    #calculate loss(using cross entropy)\n",
        "    prediction_error = -torch.sum(torch.multiply(labels,torch.log(activations)),axis =1)\n",
        "    risk =torch.mean(prediction_error)\n",
        "    # calculate accuracy (on the training set!)\n",
        "    true_class = np.argmax(labels.detach().cpu().numpy(),axis=1)\n",
        "    pred_class = np.argmax(activations.detach().cpu().numpy(),axis=1)\n",
        "    accuracy = np.count_nonzero(true_class == pred_class)/pred_class.shape[0];\n",
        "    error = 1.0 - accuracy;\n",
        "    print('loss: {:.3f}\\t accuracy: {:.3f}'.format(risk.item(),accuracy))"
      ],
      "metadata": {
        "id": "MOhwr6ECJG0d",
        "colab": {
          "base_uri": "https://localhost:8080/"
        },
        "outputId": "e580645f-eea7-460d-eb51-bf5f4b446fd4"
      },
      "execution_count": null,
      "outputs": [
        {
          "output_type": "stream",
          "name": "stdout",
          "text": [
            "loss: 0.173\t accuracy: 0.933\n"
          ]
        }
      ]
    },
    {
      "cell_type": "markdown",
      "source": [
        "# HW2.3 Report:\n",
        "The code has been experimented using different parameters such as batch size, learning_rate, epochs and init_std_dev. In each experiment same parameter setup is used for both optimizers(Adam and SGD) to see how they behave. The results was collected and compared for analysis purpose. The following is some findings from the results:\n",
        "# Observations:\n",
        "1. SGD needs more iterations and larger learning rates compared to Adam.\n",
        "2. Adam always showes smaller loss and reaches minimum values faster than SGD.\n",
        "3. Adam outperforms SGD. It has larger accuracy and smaller loss.\n",
        "4. Both optimizers give best results using 0.01 learning rate and 0.01 init_std_dev with different batch sizes and different iterations in training.\n",
        "5. Both optimizers give best results at training and testing using 10000 epoches, 0.01 learning rate, and 0.01 init_std_dev with different batch sizes. "
      ],
      "metadata": {
        "id": "-XpZx-mKlcQb"
      }
    }
  ]
}